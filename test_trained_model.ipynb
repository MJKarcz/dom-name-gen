{
 "cells": [
  {
   "cell_type": "code",
   "execution_count": 2,
   "id": "4c769538-c361-4ff0-86d6-88d989570680",
   "metadata": {},
   "outputs": [
    {
     "data": {
      "text/plain": [
       "True"
      ]
     },
     "execution_count": 2,
     "metadata": {},
     "output_type": "execute_result"
    }
   ],
   "source": [
    "#1. Load base model - the same used for training\n",
    "from transformers import AutoTokenizer, AutoModelForCausalLM\n",
    "from peft import PeftModel\n",
    "import bitsandbytes\n",
    "from dotenv import load_dotenv\n",
    "import os\n",
    "import dvc.api\n",
    "load_dotenv()\n"
   ]
  },
  {
   "cell_type": "code",
   "execution_count": 1,
   "id": "df9c5ba0-40b4-4e0e-98c7-f76cfb0e801d",
   "metadata": {},
   "outputs": [
    {
     "name": "stderr",
     "output_type": "stream",
     "text": [
      "The 8-bit optimizer is not available on your device, only available on CUDA for now.\n",
      "The `load_in_4bit` and `load_in_8bit` arguments are deprecated and will be removed in the future versions. Please, pass a `BitsAndBytesConfig` object in `quantization_config` argument instead.\n",
      "D:\\DEV\\anaconda3\\Lib\\site-packages\\huggingface_hub\\file_download.py:801: UserWarning: Not enough free disk space to download the file. The expected file size is: 2471.65 MB. The target location C:\\Users\\mk666\\.cache\\huggingface\\hub\\models--meta-llama--Llama-3.2-1B\\blobs only has 2185.76 MB free disk space.\n",
      "  warnings.warn(\n",
      "Xet Storage is enabled for this repo, but the 'hf_xet' package is not installed. Falling back to regular HTTP download. For better performance, install the package with: `pip install huggingface_hub[hf_xet]` or `pip install hf_xet`\n"
     ]
    },
    {
     "data": {
      "application/vnd.jupyter.widget-view+json": {
       "model_id": "c6576544e1c543a0b184e114ebb7f829",
       "version_major": 2,
       "version_minor": 0
      },
      "text/plain": [
       "model.safetensors:   0%|          | 0.00/2.47G [00:00<?, ?B/s]"
      ]
     },
     "metadata": {},
     "output_type": "display_data"
    },
    {
     "name": "stderr",
     "output_type": "stream",
     "text": [
      "D:\\DEV\\anaconda3\\Lib\\site-packages\\huggingface_hub\\file_download.py:143: UserWarning: `huggingface_hub` cache-system uses symlinks by default to efficiently store duplicated files but your machine does not support them in C:\\Users\\mk666\\.cache\\huggingface\\hub\\models--meta-llama--Llama-3.2-1B. Caching files will still work but in a degraded version that might require more space on your disk. This warning can be disabled by setting the `HF_HUB_DISABLE_SYMLINKS_WARNING` environment variable. For more details, see https://huggingface.co/docs/huggingface_hub/how-to-cache#limitations.\n",
      "To support symlinks on Windows, you either need to activate Developer Mode or to run Python as an administrator. In order to activate developer mode, see this article: https://docs.microsoft.com/en-us/windows/apps/get-started/enable-your-device-for-development\n",
      "  warnings.warn(message)\n"
     ]
    },
    {
     "data": {
      "application/vnd.jupyter.widget-view+json": {
       "model_id": "7efa265795e247838876dc14080f4e7f",
       "version_major": 2,
       "version_minor": 0
      },
      "text/plain": [
       "generation_config.json:   0%|          | 0.00/185 [00:00<?, ?B/s]"
      ]
     },
     "metadata": {},
     "output_type": "display_data"
    }
   ],
   "source": [
    "# Base model\n",
    "base_model = \"meta-llama/Llama-3.2-1B\"\n",
    "tokenizer = AutoTokenizer.from_pretrained(base_model)\n",
    "hf_token = os.getenv(\"HF_TOKEN\")\n",
    "\n",
    "\n",
    "# Load base model in 4bit (same as training)\n",
    "model = AutoModelForCausalLM.from_pretrained(\n",
    "    base_model,\n",
    "    load_in_4bit=True,\n",
    "    device_map=\"auto\",\n",
    "    token=hf_token\n",
    ")\n"
   ]
  },
  {
   "cell_type": "code",
   "execution_count": 11,
   "id": "7fc1343d-fc76-4c84-a954-71790944ec53",
   "metadata": {},
   "outputs": [
    {
     "name": "stdout",
     "output_type": "stream",
     "text": [
      "s3://my-dvc-shared-bucket-123/dvc_storage/files/md5/e4/74bf1fb6ae75a7932f6c1a990e6694\n",
      "s3://my-dvc-shared-bucket-123/dvc_storage/files/md5/f7/3b89333b11fea518d9d599434ea270\n"
     ]
    }
   ],
   "source": [
    "# Lets now load model weights from dvc\n",
    "\n",
    "path_adapter_config = 'trained_model/adapter_config.json'\n",
    "path_adapter_model = 'trained_model/adapter_model.safetensors'\n",
    "repo = '.'\n",
    "version = 'llama3.2-1b_model_adapter_v1' # Always remember the tags!\n",
    "\n",
    "adapter_config_url = dvc.api.get_url(\n",
    "\tpath=path_adapter_config,\n",
    "\trepo=repo,\n",
    "\trev=version\n",
    "\t)\n",
    "\n",
    "adapter_model_url = dvc.api.get_url(\n",
    "\tpath=path_adapter_model,\n",
    "\trepo=repo,\n",
    "\trev=version\n",
    "\t)\n",
    "\n",
    "print(adapter_config_url)\n",
    "print(adapter_model_url)"
   ]
  },
  {
   "cell_type": "code",
   "execution_count": 12,
   "id": "86c5b453-9871-41f6-be57-f6aa2c9a7cb3",
   "metadata": {},
   "outputs": [],
   "source": [
    "# Load LoRA adapters (from your trained_model dir tracked with DVC)\n",
    "model = PeftModel.from_pretrained(model, \"./trained_model\")"
   ]
  },
  {
   "cell_type": "code",
   "execution_count": 26,
   "id": "c5b819e7-aeaa-4a36-b417-3cfcec30ba8e",
   "metadata": {},
   "outputs": [],
   "source": [
    "def chat(query, model, tokenizer):\n",
    "    system_prompt = \"\"\"\"\"\"\n",
    "    \n",
    "    messages = [\n",
    "        {\"role\": \"system\", \"content\": system_prompt},\n",
    "        {\"role\": \"user\", \"content\": query},\n",
    "    ]\n",
    "    \n",
    "    # Use same template as training\n",
    "    text = tokenizer.apply_chat_template(messages, tokenize=False, add_generation_prompt=True)\n",
    "    inputs = tokenizer(text, return_tensors=\"pt\").to(\"cpu\")\n",
    "\n",
    "    outputs = model.generate(\n",
    "        **inputs,\n",
    "        max_new_tokens=200,\n",
    "        temperature=0.7,\n",
    "        top_p=0.9,\n",
    "    )\n",
    "\n",
    "    response = tokenizer.decode(outputs[0], skip_special_tokens=True)\n",
    "    return response"
   ]
  },
  {
   "cell_type": "code",
   "execution_count": 27,
   "id": "221dc5dd-a83e-4d6f-99e9-007c259f9377",
   "metadata": {},
   "outputs": [],
   "source": [
    "tokenizer.chat_template = (\n",
    "    \"{% set loop_messages = messages %}\"\n",
    "    \"{% for message in loop_messages %}\"\n",
    "    \"{% set content = '<|start_header_id|>' + message['role'] + '<|end_header_id|>\\n\\n' + message['content'] | trim + '<|eot_id|>' %}\"\n",
    "    \"{% if loop.index0 == 0 %}{% set content = bos_token + content %}{% endif %}\"\n",
    "    \"{{ content }}\"\n",
    "    \"{% endfor %}\"\n",
    "    \"{% if add_generation_prompt %}{{ '<|start_header_id|><|end_header_id|>\\n\\n' }}{% endif %}\"\n",
    ")"
   ]
  },
  {
   "cell_type": "code",
   "execution_count": 2,
   "id": "f5423c0b-47ec-4c10-a351-4958f60dd215",
   "metadata": {},
   "outputs": [
    {
     "ename": "NameError",
     "evalue": "name 'chat' is not defined",
     "output_type": "error",
     "traceback": [
      "\u001b[1;31m---------------------------------------------------------------------------\u001b[0m",
      "\u001b[1;31mNameError\u001b[0m                                 Traceback (most recent call last)",
      "Cell \u001b[1;32mIn[2], line 2\u001b[0m\n\u001b[0;32m      1\u001b[0m \u001b[38;5;66;03m# Example usage\u001b[39;00m\n\u001b[1;32m----> 2\u001b[0m \u001b[38;5;28mprint\u001b[39m(chat(\u001b[38;5;124m\"\u001b[39m\u001b[38;5;124mI want a domain for a startup that helps people sleep better\u001b[39m\u001b[38;5;124m\"\u001b[39m, model, tokenizer))\n",
      "\u001b[1;31mNameError\u001b[0m: name 'chat' is not defined"
     ]
    }
   ],
   "source": [
    "# Example usage\n",
    "print(chat(\"I want a domain for a startup that helps people sleep better\", model, tokenizer))"
   ]
  },
  {
   "cell_type": "code",
   "execution_count": null,
   "id": "19341cec-4b09-4d75-8924-6080c873013e",
   "metadata": {},
   "outputs": [],
   "source": []
  }
 ],
 "metadata": {
  "colab": {
   "provenance": []
  },
  "kernelspec": {
   "display_name": "Python 3 (ipykernel)",
   "language": "python",
   "name": "python3"
  },
  "language_info": {
   "codemirror_mode": {
    "name": "ipython",
    "version": 3
   },
   "file_extension": ".py",
   "mimetype": "text/x-python",
   "name": "python",
   "nbconvert_exporter": "python",
   "pygments_lexer": "ipython3",
   "version": "3.13.5"
  }
 },
 "nbformat": 4,
 "nbformat_minor": 5
}
